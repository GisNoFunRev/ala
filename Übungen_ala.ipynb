{
 "cells": [
  {
   "metadata": {},
   "cell_type": "markdown",
   "source": [
    "# Übungen ALA\n",
    "\n",
    "\n"
   ],
   "id": "6626ffe339ce7c28"
  },
  {
   "metadata": {},
   "cell_type": "markdown",
   "source": "## Wichtige Python-Befehle",
   "id": "9189b158203d8ccc"
  },
  {
   "metadata": {},
   "cell_type": "markdown",
   "source": [
    "'np.linalg.eig(A)'\n",
    "gibt die Eigenwerte und Eigenvektoren einer Matrix A zurück"
   ],
   "id": "6bca901706f74d47"
  },
  {
   "metadata": {
    "ExecuteTime": {
     "end_time": "2025-10-07T09:33:31.272809Z",
     "start_time": "2025-10-07T09:33:30.621493Z"
    }
   },
   "cell_type": "code",
   "source": [
    "import numpy as np\n",
    "import sympy as sp\n",
    "import matplotlib.pyplot as plt\n",
    "from IPython.display import display\n",
    "\n"
   ],
   "id": "8a16425e8785cda5",
   "outputs": [],
   "execution_count": 7
  },
  {
   "metadata": {},
   "cell_type": "markdown",
   "source": "## 1.7 Eigenvektoren",
   "id": "ed518a7cb1a4fc77"
  },
  {
   "metadata": {},
   "cell_type": "markdown",
   "source": "### 4",
   "id": "358edffc962ecc09"
  },
  {
   "metadata": {},
   "cell_type": "markdown",
   "source": "#### (c)",
   "id": "5df8771437ae1d58"
  },
  {
   "metadata": {
    "ExecuteTime": {
     "end_time": "2025-10-07T09:30:00.582801Z",
     "start_time": "2025-10-07T09:30:00.578352Z"
    }
   },
   "cell_type": "code",
   "source": [
    "A = np.array([[6,3],[2,7]])\n",
    "ew = np.linalg.eigvals(A)\n",
    "ev = np.linalg.eig(A)"
   ],
   "id": "b75f81ab6d1751d8",
   "outputs": [],
   "execution_count": 5
  },
  {
   "metadata": {
    "ExecuteTime": {
     "end_time": "2025-10-07T09:30:02.186071Z",
     "start_time": "2025-10-07T09:30:02.176474Z"
    }
   },
   "cell_type": "code",
   "source": [
    "\n",
    "list(ev)\n"
   ],
   "id": "ce627b8a3a1c7657",
   "outputs": [
    {
     "data": {
      "text/plain": [
       "[array([4., 9.]),\n",
       " array([[-0.83205029, -0.70710678],\n",
       "        [ 0.5547002 , -0.70710678]])]"
      ]
     },
     "execution_count": 6,
     "metadata": {},
     "output_type": "execute_result"
    }
   ],
   "execution_count": 6
  },
  {
   "metadata": {
    "ExecuteTime": {
     "end_time": "2025-10-07T09:33:37.700253Z",
     "start_time": "2025-10-07T09:33:37.598732Z"
    }
   },
   "cell_type": "code",
   "source": [
    "for k in range( A.shape[0] ):\n",
    "    display( sp.Matrix( np.round( ev[:,k], 4 ) ) )"
   ],
   "id": "43881d771c0d7c63",
   "outputs": [
    {
     "ename": "TypeError",
     "evalue": "tuple indices must be integers or slices, not tuple",
     "output_type": "error",
     "traceback": [
      "\u001B[31m---------------------------------------------------------------------------\u001B[39m",
      "\u001B[31mTypeError\u001B[39m                                 Traceback (most recent call last)",
      "\u001B[36mCell\u001B[39m\u001B[36m \u001B[39m\u001B[32mIn[8]\u001B[39m\u001B[32m, line 2\u001B[39m\n\u001B[32m      1\u001B[39m \u001B[38;5;28;01mfor\u001B[39;00m k \u001B[38;5;129;01min\u001B[39;00m \u001B[38;5;28mrange\u001B[39m( A.shape[\u001B[32m0\u001B[39m] ):\n\u001B[32m----> \u001B[39m\u001B[32m2\u001B[39m     display( sp.Matrix( np.round( \u001B[43mev\u001B[49m\u001B[43m[\u001B[49m\u001B[43m:\u001B[49m\u001B[43m,\u001B[49m\u001B[43mk\u001B[49m\u001B[43m]\u001B[49m, \u001B[32m4\u001B[39m ) ) )\n",
      "\u001B[31mTypeError\u001B[39m: tuple indices must be integers or slices, not tuple"
     ]
    }
   ],
   "execution_count": 8
  }
 ],
 "metadata": {
  "kernelspec": {
   "display_name": "Python 3",
   "language": "python",
   "name": "python3"
  },
  "language_info": {
   "codemirror_mode": {
    "name": "ipython",
    "version": 2
   },
   "file_extension": ".py",
   "mimetype": "text/x-python",
   "name": "python",
   "nbconvert_exporter": "python",
   "pygments_lexer": "ipython2",
   "version": "2.7.6"
  }
 },
 "nbformat": 4,
 "nbformat_minor": 5
}
